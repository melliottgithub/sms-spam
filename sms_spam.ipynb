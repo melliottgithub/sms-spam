{
 "cells": [
  {
   "cell_type": "code",
   "execution_count": 9,
   "metadata": {},
   "outputs": [
    {
     "name": "stderr",
     "output_type": "stream",
     "text": [
      "[nltk_data] Downloading package stopwords to\n",
      "[nltk_data]     C:\\Users\\kllmm\\AppData\\Roaming\\nltk_data...\n",
      "[nltk_data]   Package stopwords is already up-to-date!\n"
     ]
    }
   ],
   "source": [
    "import numpy as np\n",
    "import matplotlib.pyplot as plt\n",
    "import seaborn as sns; sns.set()\n",
    "import pandas as pd\n",
    "import string\n",
    "import nltk\n",
    "\n",
    "%matplotlib inline\n",
    "\n",
    "import nltk\n",
    "nltk.download('stopwords')\n",
    "from nltk import FreqDist\n",
    "from nltk.stem import SnowballStemmer\n",
    "from nltk.stem import WordNetLemmatizer\n",
    "from nltk.corpus import stopwords\n",
    "from sklearn.feature_extraction.text import TfidfVectorizer\n",
    "from sklearn.feature_extraction.text import CountVectorizer\n",
    "from sklearn.model_selection import train_test_split\n",
    "from sklearn.utils import resample\n",
    "\n",
    "# Import libraries for predction\n",
    "from sklearn import metrics\n",
    "from sklearn.metrics import confusion_matrix,accuracy_score,roc_auc_score,roc_curve,auc,f1_score\n",
    "\n",
    "# WordCloud\n",
    "#from wordcloud import WordCloud\n",
    "import warnings\n",
    "warnings.filterwarnings('ignore')\n",
    "\n"
   ]
  },
  {
   "cell_type": "code",
   "execution_count": 10,
   "metadata": {},
   "outputs": [
    {
     "data": {
      "text/html": [
       "<div>\n",
       "<style scoped>\n",
       "    .dataframe tbody tr th:only-of-type {\n",
       "        vertical-align: middle;\n",
       "    }\n",
       "\n",
       "    .dataframe tbody tr th {\n",
       "        vertical-align: top;\n",
       "    }\n",
       "\n",
       "    .dataframe thead th {\n",
       "        text-align: right;\n",
       "    }\n",
       "</style>\n",
       "<table border=\"1\" class=\"dataframe\">\n",
       "  <thead>\n",
       "    <tr style=\"text-align: right;\">\n",
       "      <th></th>\n",
       "      <th>v1</th>\n",
       "      <th>v2</th>\n",
       "      <th>Unnamed: 2</th>\n",
       "      <th>Unnamed: 3</th>\n",
       "      <th>Unnamed: 4</th>\n",
       "    </tr>\n",
       "  </thead>\n",
       "  <tbody>\n",
       "    <tr>\n",
       "      <th>0</th>\n",
       "      <td>ham</td>\n",
       "      <td>Go until jurong point, crazy.. Available only ...</td>\n",
       "      <td>NaN</td>\n",
       "      <td>NaN</td>\n",
       "      <td>NaN</td>\n",
       "    </tr>\n",
       "    <tr>\n",
       "      <th>1</th>\n",
       "      <td>ham</td>\n",
       "      <td>Ok lar... Joking wif u oni...</td>\n",
       "      <td>NaN</td>\n",
       "      <td>NaN</td>\n",
       "      <td>NaN</td>\n",
       "    </tr>\n",
       "    <tr>\n",
       "      <th>2</th>\n",
       "      <td>spam</td>\n",
       "      <td>Free entry in 2 a wkly comp to win FA Cup fina...</td>\n",
       "      <td>NaN</td>\n",
       "      <td>NaN</td>\n",
       "      <td>NaN</td>\n",
       "    </tr>\n",
       "    <tr>\n",
       "      <th>3</th>\n",
       "      <td>ham</td>\n",
       "      <td>U dun say so early hor... U c already then say...</td>\n",
       "      <td>NaN</td>\n",
       "      <td>NaN</td>\n",
       "      <td>NaN</td>\n",
       "    </tr>\n",
       "    <tr>\n",
       "      <th>4</th>\n",
       "      <td>ham</td>\n",
       "      <td>Nah I don't think he goes to usf, he lives aro...</td>\n",
       "      <td>NaN</td>\n",
       "      <td>NaN</td>\n",
       "      <td>NaN</td>\n",
       "    </tr>\n",
       "  </tbody>\n",
       "</table>\n",
       "</div>"
      ],
      "text/plain": [
       "     v1                                                 v2 Unnamed: 2  \\\n",
       "0   ham  Go until jurong point, crazy.. Available only ...        NaN   \n",
       "1   ham                      Ok lar... Joking wif u oni...        NaN   \n",
       "2  spam  Free entry in 2 a wkly comp to win FA Cup fina...        NaN   \n",
       "3   ham  U dun say so early hor... U c already then say...        NaN   \n",
       "4   ham  Nah I don't think he goes to usf, he lives aro...        NaN   \n",
       "\n",
       "  Unnamed: 3 Unnamed: 4  \n",
       "0        NaN        NaN  \n",
       "1        NaN        NaN  \n",
       "2        NaN        NaN  \n",
       "3        NaN        NaN  \n",
       "4        NaN        NaN  "
      ]
     },
     "execution_count": 10,
     "metadata": {},
     "output_type": "execute_result"
    }
   ],
   "source": [
    "#run from sagemaker notebook instance\n",
    "import boto3\n",
    "from sagemaker import get_execution_role\n",
    "role = get_execution_role()\n",
    "bucket='machine-learning-uni'\n",
    "data_key = 'week3/Assignment/spam.csv'\n",
    "data_location = 's3://{}/{}'.format(bucket, data_key)\n",
    "df = pd.read_csv('data_location',encoding='latin-1', sep=',', engine='python')\n",
    "df.head()"
   ]
  },
  {
   "cell_type": "code",
   "execution_count": 11,
   "metadata": {},
   "outputs": [
    {
     "data": {
      "text/html": [
       "<div>\n",
       "<style scoped>\n",
       "    .dataframe tbody tr th:only-of-type {\n",
       "        vertical-align: middle;\n",
       "    }\n",
       "\n",
       "    .dataframe tbody tr th {\n",
       "        vertical-align: top;\n",
       "    }\n",
       "\n",
       "    .dataframe thead th {\n",
       "        text-align: right;\n",
       "    }\n",
       "</style>\n",
       "<table border=\"1\" class=\"dataframe\">\n",
       "  <thead>\n",
       "    <tr style=\"text-align: right;\">\n",
       "      <th></th>\n",
       "      <th>v1</th>\n",
       "      <th>v2</th>\n",
       "      <th>Unnamed: 2</th>\n",
       "      <th>Unnamed: 3</th>\n",
       "      <th>Unnamed: 4</th>\n",
       "    </tr>\n",
       "  </thead>\n",
       "  <tbody>\n",
       "    <tr>\n",
       "      <th>count</th>\n",
       "      <td>5572</td>\n",
       "      <td>5572</td>\n",
       "      <td>50</td>\n",
       "      <td>12</td>\n",
       "      <td>6</td>\n",
       "    </tr>\n",
       "    <tr>\n",
       "      <th>unique</th>\n",
       "      <td>2</td>\n",
       "      <td>5169</td>\n",
       "      <td>43</td>\n",
       "      <td>10</td>\n",
       "      <td>5</td>\n",
       "    </tr>\n",
       "    <tr>\n",
       "      <th>top</th>\n",
       "      <td>ham</td>\n",
       "      <td>Sorry, I'll call later</td>\n",
       "      <td>bt not his girlfrnd... G o o d n i g h t . . .@\"</td>\n",
       "      <td>MK17 92H. 450Ppw 16\"</td>\n",
       "      <td>GNT:-)\"</td>\n",
       "    </tr>\n",
       "    <tr>\n",
       "      <th>freq</th>\n",
       "      <td>4825</td>\n",
       "      <td>30</td>\n",
       "      <td>3</td>\n",
       "      <td>2</td>\n",
       "      <td>2</td>\n",
       "    </tr>\n",
       "  </tbody>\n",
       "</table>\n",
       "</div>"
      ],
      "text/plain": [
       "          v1                      v2  \\\n",
       "count   5572                    5572   \n",
       "unique     2                    5169   \n",
       "top      ham  Sorry, I'll call later   \n",
       "freq    4825                      30   \n",
       "\n",
       "                                               Unnamed: 2  \\\n",
       "count                                                  50   \n",
       "unique                                                 43   \n",
       "top      bt not his girlfrnd... G o o d n i g h t . . .@\"   \n",
       "freq                                                    3   \n",
       "\n",
       "                   Unnamed: 3 Unnamed: 4  \n",
       "count                      12          6  \n",
       "unique                     10          5  \n",
       "top      MK17 92H. 450Ppw 16\"    GNT:-)\"  \n",
       "freq                        2          2  "
      ]
     },
     "execution_count": 11,
     "metadata": {},
     "output_type": "execute_result"
    }
   ],
   "source": [
    "df.describe()\n"
   ]
  },
  {
   "cell_type": "code",
   "execution_count": 12,
   "metadata": {},
   "outputs": [
    {
     "data": {
      "text/html": [
       "<div>\n",
       "<style scoped>\n",
       "    .dataframe tbody tr th:only-of-type {\n",
       "        vertical-align: middle;\n",
       "    }\n",
       "\n",
       "    .dataframe tbody tr th {\n",
       "        vertical-align: top;\n",
       "    }\n",
       "\n",
       "    .dataframe thead th {\n",
       "        text-align: right;\n",
       "    }\n",
       "</style>\n",
       "<table border=\"1\" class=\"dataframe\">\n",
       "  <thead>\n",
       "    <tr style=\"text-align: right;\">\n",
       "      <th></th>\n",
       "      <th>label</th>\n",
       "      <th>text</th>\n",
       "    </tr>\n",
       "  </thead>\n",
       "  <tbody>\n",
       "    <tr>\n",
       "      <th>count</th>\n",
       "      <td>5572</td>\n",
       "      <td>5572</td>\n",
       "    </tr>\n",
       "    <tr>\n",
       "      <th>unique</th>\n",
       "      <td>2</td>\n",
       "      <td>5169</td>\n",
       "    </tr>\n",
       "    <tr>\n",
       "      <th>top</th>\n",
       "      <td>ham</td>\n",
       "      <td>Sorry, I'll call later</td>\n",
       "    </tr>\n",
       "    <tr>\n",
       "      <th>freq</th>\n",
       "      <td>4825</td>\n",
       "      <td>30</td>\n",
       "    </tr>\n",
       "  </tbody>\n",
       "</table>\n",
       "</div>"
      ],
      "text/plain": [
       "       label                    text\n",
       "count   5572                    5572\n",
       "unique     2                    5169\n",
       "top      ham  Sorry, I'll call later\n",
       "freq    4825                      30"
      ]
     },
     "execution_count": 12,
     "metadata": {},
     "output_type": "execute_result"
    }
   ],
   "source": [
    "df_clean = df.copy()\n",
    "df_clean.drop(['Unnamed: 2','Unnamed: 3','Unnamed: 4'], axis=1, inplace=True)\n",
    "df_clean.rename(columns={'v1':'label','v2':'text'}, inplace=True)\n",
    "df_clean.describe()"
   ]
  },
  {
   "cell_type": "markdown",
   "metadata": {},
   "source": [
    "### To improve the model performance we could use resampling\n",
    "    USE_RESAMPLE = True enable \"resample\" to increase 'spam' cases"
   ]
  },
  {
   "cell_type": "code",
   "execution_count": 13,
   "metadata": {
    "tags": []
   },
   "outputs": [],
   "source": [
    "USE_RESAMPLE = True\n",
    "if USE_RESAMPLE:\n",
    "    features_train, features_test, labels_train,labels_test = \\\n",
    "    train_test_split(df_clean['text'], df_clean['label'], test_size=.1, random_state=42)\n",
    "\n",
    "    # resample 'spam' category to improve accurracy\n",
    "    resampling = pd.concat([features_train, labels_train], axis=1)\n",
    "    resampling.describe()\n",
    "    df_spam = resampling[resampling['label'] == 'spam']\n",
    "    df_ham = resampling[resampling['label'] == 'ham']\n",
    "    df_spam_resampled = resample(df_spam, replace=True, n_samples=int(len(df_ham)*.48), random_state=42)\n",
    "\n",
    "    df_sample = pd.concat([df_ham, df_spam_resampled])\n",
    "    df_ham.describe()\n",
    "else:\n",
    "    df_sample = df_clean.copy()"
   ]
  },
  {
   "cell_type": "code",
   "execution_count": 14,
   "metadata": {},
   "outputs": [
    {
     "data": {
      "text/plain": [
       "<AxesSubplot: title={'center': 'Sample data'}, xlabel='label', ylabel='Count'>"
      ]
     },
     "execution_count": 14,
     "metadata": {},
     "output_type": "execute_result"
    },
    {
     "data": {
      "image/png": "[encoded data removed]",
      "text/plain": [
       "<Figure size 800x400 with 2 Axes>"
      ]
     },
     "metadata": {},
     "output_type": "display_data"
    }
   ],
   "source": [
    "fig, axes = plt.subplots(1,2, figsize=(8,4))\n",
    "fig.tight_layout(h_pad=6)\n",
    "axes[0].set_title('Clean data')\n",
    "axes[1].set_title('Sample data')\n",
    "sns.histplot(df_clean['label'], color='grey', bins=30, alpha=0.7, edgecolor='black', linewidth=1.5, ax=axes[0])\n",
    "sns.histplot(df_sample['label'], color='grey', bins=30, alpha=0.7, edgecolor='black', linewidth=1.5, ax=axes[1])"
   ]
  },
  {
   "cell_type": "code",
   "execution_count": 15,
   "metadata": {
    "tags": []
   },
   "outputs": [
    {
     "data": {
      "text/plain": [
       "ham     4334\n",
       "spam    2080\n",
       "Name: label, dtype: int64"
      ]
     },
     "execution_count": 15,
     "metadata": {},
     "output_type": "execute_result"
    }
   ],
   "source": [
    "df_sample['label'].value_counts()"
   ]
  },
  {
   "cell_type": "code",
   "execution_count": 16,
   "metadata": {},
   "outputs": [],
   "source": [
    "# remove punctuation, stopwords and perform word stemming\n",
    "def pre_process(text):\n",
    "    \n",
    "    text = text.translate(str.maketrans('', '', string.punctuation))  #remove punctuation\n",
    "    text = [word for word in text.split() if word.lower() not in stopwords.words('english')]  #remove stopwords\n",
    "    words = \"\"\n",
    "    stemmer = SnowballStemmer(\"english\")\n",
    "    for i in text:  #word stemming\n",
    "            \n",
    "            words += (stemmer.stem(i))+\" \"\n",
    "    return words\n",
    "\n",
    "# import multiprocessing as mp\n",
    "\n",
    "# def pre_process_worker(text):\n",
    "#     text = text.translate(str.maketrans('', '', string.punctuation))\n",
    "#     text = [word for word in text.split() if word.lower() not in stopwords.words('english')]\n",
    "#     words = \"\"\n",
    "#     stemmer = SnowballStemmer(\"english\")\n",
    "#     for i in text:  #word stemming\n",
    "#         #words = \" \".join([stemmer.stem(i) for i in text])\n",
    "#         words += (stemmer.stem(i))+\" \"\n",
    "#     return words\n",
    "\n",
    "# def pre_process(texts):\n",
    "#     with mp.Pool(processes=mp.cpu_count()) as pool:\n",
    "#         results = pool.map(pre_process_worker, texts)\n",
    "#     return results\n"
   ]
  },
  {
   "cell_type": "code",
   "execution_count": 17,
   "metadata": {},
   "outputs": [],
   "source": [
    "# Text transformation\n",
    "# to lowercase and remove numbers\n",
    "df_sample['text'] = df_sample['text'].str.lower()\n",
    "df_sample['text'] = df_sample['text'].str.replace(r'\\d+','')\n",
    "\n",
    "# pre process text\n",
    "textFeatures = df_sample['text'].copy()\n",
    "textFeatures = textFeatures.apply(pre_process)"
   ]
  },
  {
   "cell_type": "code",
   "execution_count": 18,
   "metadata": {},
   "outputs": [
    {
     "name": "stdout",
     "output_type": "stream",
     "text": [
      "Train size:  (4297, 3428)\n",
      "Test size:  (2117, 3428)\n"
     ]
    }
   ],
   "source": [
    "# Document-term-matrix creation\n",
    "#create TfidVectorizer to create the numerical values\n",
    "vectorizer = TfidfVectorizer(stop_words=\"english\",decode_error='ignore', lowercase = True, min_df=2)\n",
    "\n",
    "#numericalize the textFeatures\n",
    "features = vectorizer.fit_transform(textFeatures.values.astype('U'))\n",
    "\n",
    "#create the test and train datasets\n",
    "features_train, features_test, labels_train,labels_test = \\\n",
    "train_test_split(features, df_sample['label'], test_size=0.33, random_state=42)\n",
    "\n",
    "print('Train size: ', features_train.shape)\n",
    "print('Test size: ', features_test.shape)"
   ]
  },
  {
   "cell_type": "code",
   "execution_count": 19,
   "metadata": {},
   "outputs": [
    {
     "name": "stdout",
     "output_type": "stream",
     "text": [
      "Accuracy of Model:  0.9829948039678791\n"
     ]
    }
   ],
   "source": [
    "# Create model\n",
    "from sklearn.naive_bayes import MultinomialNB\n",
    "from sklearn.metrics import accuracy_score\n",
    "\n",
    "mnb = MultinomialNB(alpha=0.2)\n",
    "mnb.fit(features_train, labels_train)\n",
    "prediction = mnb.predict(features_test)\n",
    "print('Accuracy of Model: ', accuracy_score(labels_test,prediction))"
   ]
  },
  {
   "cell_type": "code",
   "execution_count": 20,
   "metadata": {},
   "outputs": [],
   "source": [
    "# Create the confusion matrix\n",
    "def plot_confusion_matrix(y_test, preds):\n",
    "    ''' Plot the confusion matrix for the target labels and predictions '''\n",
    "    cm = confusion_matrix(y_test, preds)\n",
    "\n",
    "    # Create a dataframe with the confussion matrix values\n",
    "    confusion_m = pd.DataFrame(cm, columns=['Predicted: ham', 'Predicted: spam'], \\\n",
    "        index=['Actual: ham', 'Actual: spam'])\n",
    "    plt.figure(figsize = (10,10))\n",
    "    # Plot the confusion matrix\n",
    "    sns.set(font_scale=1.4) #for label size\n",
    "    sns.heatmap(confusion_m, annot=True,fmt='.0f', annot_kws={\"size\": 16}, cmap='Blues') # font size\n",
    "    plt.show()"
   ]
  },
  {
   "cell_type": "code",
   "execution_count": 21,
   "metadata": {
    "tags": []
   },
   "outputs": [
    {
     "name": "stdout",
     "output_type": "stream",
     "text": [
      "              precision    recall  f1-score   support\n",
      "\n",
      "         ham     0.9923    0.9826    0.9874      1438\n",
      "        spam     0.9639    0.9838    0.9738       679\n",
      "\n",
      "    accuracy                         0.9830      2117\n",
      "   macro avg     0.9781    0.9832    0.9806      2117\n",
      "weighted avg     0.9832    0.9830    0.9830      2117\n",
      "\n"
     ]
    },
    {
     "data": {
      "image/png": "[encoded data removed]",
      "text/plain": [
       "<Figure size 1000x1000 with 2 Axes>"
      ]
     },
     "metadata": {},
     "output_type": "display_data"
    }
   ],
   "source": [
    "# Predicting the Test set results\n",
    "preds = prediction\n",
    "\n",
    "print(metrics.classification_report(labels_test, preds,  digits=4))\n",
    "plot_confusion_matrix(labels_test, preds)"
   ]
  },
  {
   "cell_type": "code",
   "execution_count": 24,
   "metadata": {},
   "outputs": [],
   "source": [
    "#get feature names from the vectorizer object created above and store it in a list \n",
    "feature_names = vectorizer.get_feature_names_out()\n",
    "dense = features.todense()\n",
    "denselist = dense.tolist()\n",
    "df_vector = pd.DataFrame(denselist, columns=feature_names)"
   ]
  },
  {
   "cell_type": "code",
   "execution_count": 25,
   "metadata": {
    "tags": []
   },
   "outputs": [
    {
     "data": {
      "text/html": [
       "<div>\n",
       "<style scoped>\n",
       "    .dataframe tbody tr th:only-of-type {\n",
       "        vertical-align: middle;\n",
       "    }\n",
       "\n",
       "    .dataframe tbody tr th {\n",
       "        vertical-align: top;\n",
       "    }\n",
       "\n",
       "    .dataframe thead th {\n",
       "        text-align: right;\n",
       "    }\n",
       "</style>\n",
       "<table border=\"1\" class=\"dataframe\">\n",
       "  <thead>\n",
       "    <tr style=\"text-align: right;\">\n",
       "      <th></th>\n",
       "      <th>aah</th>\n",
       "      <th>aathilov</th>\n",
       "      <th>ab</th>\n",
       "      <th>aberdeen</th>\n",
       "      <th>abi</th>\n",
       "      <th>abil</th>\n",
       "      <th>abiola</th>\n",
       "      <th>abj</th>\n",
       "      <th>abl</th>\n",
       "      <th>abt</th>\n",
       "      <th>...</th>\n",
       "      <th>zouk</th>\n",
       "      <th>zs</th>\n",
       "      <th>åð</th>\n",
       "      <th>åòit</th>\n",
       "      <th>ìll</th>\n",
       "      <th>ìï</th>\n",
       "      <th>ûªv</th>\n",
       "      <th>ûï</th>\n",
       "      <th>ûïharri</th>\n",
       "      <th>ûò</th>\n",
       "    </tr>\n",
       "  </thead>\n",
       "  <tbody>\n",
       "    <tr>\n",
       "      <th>count</th>\n",
       "      <td>6414.000000</td>\n",
       "      <td>6414.000000</td>\n",
       "      <td>6414.000000</td>\n",
       "      <td>6414.000000</td>\n",
       "      <td>6414.000000</td>\n",
       "      <td>6414.000000</td>\n",
       "      <td>6414.000000</td>\n",
       "      <td>6414.000000</td>\n",
       "      <td>6414.000000</td>\n",
       "      <td>6414.000000</td>\n",
       "      <td>...</td>\n",
       "      <td>6414.000000</td>\n",
       "      <td>6414.000000</td>\n",
       "      <td>6414.000000</td>\n",
       "      <td>6414.000000</td>\n",
       "      <td>6414.000000</td>\n",
       "      <td>6414.000000</td>\n",
       "      <td>6414.000000</td>\n",
       "      <td>6414.000000</td>\n",
       "      <td>6414.000000</td>\n",
       "      <td>6414.000000</td>\n",
       "    </tr>\n",
       "    <tr>\n",
       "      <th>mean</th>\n",
       "      <td>0.000233</td>\n",
       "      <td>0.000353</td>\n",
       "      <td>0.000307</td>\n",
       "      <td>0.000080</td>\n",
       "      <td>0.000324</td>\n",
       "      <td>0.000149</td>\n",
       "      <td>0.000567</td>\n",
       "      <td>0.000211</td>\n",
       "      <td>0.001405</td>\n",
       "      <td>0.001310</td>\n",
       "      <td>...</td>\n",
       "      <td>0.000162</td>\n",
       "      <td>0.000208</td>\n",
       "      <td>0.000234</td>\n",
       "      <td>0.000191</td>\n",
       "      <td>0.000156</td>\n",
       "      <td>0.002668</td>\n",
       "      <td>0.000296</td>\n",
       "      <td>0.000161</td>\n",
       "      <td>0.000160</td>\n",
       "      <td>0.000494</td>\n",
       "    </tr>\n",
       "    <tr>\n",
       "      <th>std</th>\n",
       "      <td>0.010956</td>\n",
       "      <td>0.016304</td>\n",
       "      <td>0.010031</td>\n",
       "      <td>0.004509</td>\n",
       "      <td>0.013784</td>\n",
       "      <td>0.008623</td>\n",
       "      <td>0.015882</td>\n",
       "      <td>0.012243</td>\n",
       "      <td>0.025333</td>\n",
       "      <td>0.024619</td>\n",
       "      <td>...</td>\n",
       "      <td>0.007501</td>\n",
       "      <td>0.008334</td>\n",
       "      <td>0.011576</td>\n",
       "      <td>0.007641</td>\n",
       "      <td>0.008817</td>\n",
       "      <td>0.034510</td>\n",
       "      <td>0.010598</td>\n",
       "      <td>0.007434</td>\n",
       "      <td>0.007392</td>\n",
       "      <td>0.016930</td>\n",
       "    </tr>\n",
       "    <tr>\n",
       "      <th>min</th>\n",
       "      <td>0.000000</td>\n",
       "      <td>0.000000</td>\n",
       "      <td>0.000000</td>\n",
       "      <td>0.000000</td>\n",
       "      <td>0.000000</td>\n",
       "      <td>0.000000</td>\n",
       "      <td>0.000000</td>\n",
       "      <td>0.000000</td>\n",
       "      <td>0.000000</td>\n",
       "      <td>0.000000</td>\n",
       "      <td>...</td>\n",
       "      <td>0.000000</td>\n",
       "      <td>0.000000</td>\n",
       "      <td>0.000000</td>\n",
       "      <td>0.000000</td>\n",
       "      <td>0.000000</td>\n",
       "      <td>0.000000</td>\n",
       "      <td>0.000000</td>\n",
       "      <td>0.000000</td>\n",
       "      <td>0.000000</td>\n",
       "      <td>0.000000</td>\n",
       "    </tr>\n",
       "    <tr>\n",
       "      <th>25%</th>\n",
       "      <td>0.000000</td>\n",
       "      <td>0.000000</td>\n",
       "      <td>0.000000</td>\n",
       "      <td>0.000000</td>\n",
       "      <td>0.000000</td>\n",
       "      <td>0.000000</td>\n",
       "      <td>0.000000</td>\n",
       "      <td>0.000000</td>\n",
       "      <td>0.000000</td>\n",
       "      <td>0.000000</td>\n",
       "      <td>...</td>\n",
       "      <td>0.000000</td>\n",
       "      <td>0.000000</td>\n",
       "      <td>0.000000</td>\n",
       "      <td>0.000000</td>\n",
       "      <td>0.000000</td>\n",
       "      <td>0.000000</td>\n",
       "      <td>0.000000</td>\n",
       "      <td>0.000000</td>\n",
       "      <td>0.000000</td>\n",
       "      <td>0.000000</td>\n",
       "    </tr>\n",
       "    <tr>\n",
       "      <th>50%</th>\n",
       "      <td>0.000000</td>\n",
       "      <td>0.000000</td>\n",
       "      <td>0.000000</td>\n",
       "      <td>0.000000</td>\n",
       "      <td>0.000000</td>\n",
       "      <td>0.000000</td>\n",
       "      <td>0.000000</td>\n",
       "      <td>0.000000</td>\n",
       "      <td>0.000000</td>\n",
       "      <td>0.000000</td>\n",
       "      <td>...</td>\n",
       "      <td>0.000000</td>\n",
       "      <td>0.000000</td>\n",
       "      <td>0.000000</td>\n",
       "      <td>0.000000</td>\n",
       "      <td>0.000000</td>\n",
       "      <td>0.000000</td>\n",
       "      <td>0.000000</td>\n",
       "      <td>0.000000</td>\n",
       "      <td>0.000000</td>\n",
       "      <td>0.000000</td>\n",
       "    </tr>\n",
       "    <tr>\n",
       "      <th>75%</th>\n",
       "      <td>0.000000</td>\n",
       "      <td>0.000000</td>\n",
       "      <td>0.000000</td>\n",
       "      <td>0.000000</td>\n",
       "      <td>0.000000</td>\n",
       "      <td>0.000000</td>\n",
       "      <td>0.000000</td>\n",
       "      <td>0.000000</td>\n",
       "      <td>0.000000</td>\n",
       "      <td>0.000000</td>\n",
       "      <td>...</td>\n",
       "      <td>0.000000</td>\n",
       "      <td>0.000000</td>\n",
       "      <td>0.000000</td>\n",
       "      <td>0.000000</td>\n",
       "      <td>0.000000</td>\n",
       "      <td>0.000000</td>\n",
       "      <td>0.000000</td>\n",
       "      <td>0.000000</td>\n",
       "      <td>0.000000</td>\n",
       "      <td>0.000000</td>\n",
       "    </tr>\n",
       "    <tr>\n",
       "      <th>max</th>\n",
       "      <td>0.610082</td>\n",
       "      <td>0.754012</td>\n",
       "      <td>0.328103</td>\n",
       "      <td>0.255373</td>\n",
       "      <td>0.811136</td>\n",
       "      <td>0.575484</td>\n",
       "      <td>0.652044</td>\n",
       "      <td>0.823016</td>\n",
       "      <td>0.758621</td>\n",
       "      <td>0.763900</td>\n",
       "      <td>...</td>\n",
       "      <td>0.346897</td>\n",
       "      <td>0.333818</td>\n",
       "      <td>0.761968</td>\n",
       "      <td>0.306036</td>\n",
       "      <td>0.510271</td>\n",
       "      <td>0.753574</td>\n",
       "      <td>0.379691</td>\n",
       "      <td>0.343793</td>\n",
       "      <td>0.341869</td>\n",
       "      <td>0.872727</td>\n",
       "    </tr>\n",
       "  </tbody>\n",
       "</table>\n",
       "<p>8 rows × 3428 columns</p>\n",
       "</div>"
      ],
      "text/plain": [
       "               aah     aathilov           ab     aberdeen          abi  \\\n",
       "count  6414.000000  6414.000000  6414.000000  6414.000000  6414.000000   \n",
       "mean      0.000233     0.000353     0.000307     0.000080     0.000324   \n",
       "std       0.010956     0.016304     0.010031     0.004509     0.013784   \n",
       "min       0.000000     0.000000     0.000000     0.000000     0.000000   \n",
       "25%       0.000000     0.000000     0.000000     0.000000     0.000000   \n",
       "50%       0.000000     0.000000     0.000000     0.000000     0.000000   \n",
       "75%       0.000000     0.000000     0.000000     0.000000     0.000000   \n",
       "max       0.610082     0.754012     0.328103     0.255373     0.811136   \n",
       "\n",
       "              abil       abiola          abj          abl          abt  ...  \\\n",
       "count  6414.000000  6414.000000  6414.000000  6414.000000  6414.000000  ...   \n",
       "mean      0.000149     0.000567     0.000211     0.001405     0.001310  ...   \n",
       "std       0.008623     0.015882     0.012243     0.025333     0.024619  ...   \n",
       "min       0.000000     0.000000     0.000000     0.000000     0.000000  ...   \n",
       "25%       0.000000     0.000000     0.000000     0.000000     0.000000  ...   \n",
       "50%       0.000000     0.000000     0.000000     0.000000     0.000000  ...   \n",
       "75%       0.000000     0.000000     0.000000     0.000000     0.000000  ...   \n",
       "max       0.575484     0.652044     0.823016     0.758621     0.763900  ...   \n",
       "\n",
       "              zouk           zs           åð         åòit          ìll  \\\n",
       "count  6414.000000  6414.000000  6414.000000  6414.000000  6414.000000   \n",
       "mean      0.000162     0.000208     0.000234     0.000191     0.000156   \n",
       "std       0.007501     0.008334     0.011576     0.007641     0.008817   \n",
       "min       0.000000     0.000000     0.000000     0.000000     0.000000   \n",
       "25%       0.000000     0.000000     0.000000     0.000000     0.000000   \n",
       "50%       0.000000     0.000000     0.000000     0.000000     0.000000   \n",
       "75%       0.000000     0.000000     0.000000     0.000000     0.000000   \n",
       "max       0.346897     0.333818     0.761968     0.306036     0.510271   \n",
       "\n",
       "                ìï          ûªv           ûï      ûïharri           ûò  \n",
       "count  6414.000000  6414.000000  6414.000000  6414.000000  6414.000000  \n",
       "mean      0.002668     0.000296     0.000161     0.000160     0.000494  \n",
       "std       0.034510     0.010598     0.007434     0.007392     0.016930  \n",
       "min       0.000000     0.000000     0.000000     0.000000     0.000000  \n",
       "25%       0.000000     0.000000     0.000000     0.000000     0.000000  \n",
       "50%       0.000000     0.000000     0.000000     0.000000     0.000000  \n",
       "75%       0.000000     0.000000     0.000000     0.000000     0.000000  \n",
       "max       0.753574     0.379691     0.343793     0.341869     0.872727  \n",
       "\n",
       "[8 rows x 3428 columns]"
      ]
     },
     "execution_count": 25,
     "metadata": {},
     "output_type": "execute_result"
    }
   ],
   "source": [
    "#df_vector.describe()"
   ]
  },
  {
   "cell_type": "code",
   "execution_count": 26,
   "metadata": {
    "tags": []
   },
   "outputs": [],
   "source": [
    "# visualize the data on a WordCloud\n",
    "def visualize(label):\n",
    "  \n",
    "    words = ''\n",
    "    for msg in df_sample[df_sample['label'] == label]['text'].apply(pre_process):\n",
    "        msg = msg.lower()\n",
    "        words += msg + ' '\n",
    "    wordcloud = WordCloud(width=600, height=600).generate(words)\n",
    "    plt.imshow(wordcloud)\n",
    "    plt.axis('off')\n",
    "    plt.show()"
   ]
  },
  {
   "cell_type": "code",
   "execution_count": 27,
   "metadata": {
    "tags": []
   },
   "outputs": [
    {
     "data": {
      "text/plain": [
       "array(['ham', 'spam'], dtype=object)"
      ]
     },
     "execution_count": 27,
     "metadata": {},
     "output_type": "execute_result"
    }
   ],
   "source": [
    "df_sample['label'].unique()\n"
   ]
  },
  {
   "cell_type": "code",
   "execution_count": 29,
   "metadata": {
    "tags": []
   },
   "outputs": [],
   "source": [
    "#visualize ('ham')"
   ]
  },
  {
   "cell_type": "code",
   "execution_count": 30,
   "metadata": {
    "tags": []
   },
   "outputs": [],
   "source": [
    "\n",
    "def sort_coo(coo_matrix):\n",
    "    tuples = zip(coo_matrix.col, coo_matrix.data)\n",
    "    return sorted(tuples, key=lambda x: (x[1], x[0]), reverse=False)\n",
    "    \n",
    "    #get the feature names and tf-idf score of top n items\n",
    "def extract_topn_from_vector(feature_names, sorted_items, topn=10):\n",
    "    \n",
    "    #use only topn items from vector\n",
    "    sorted_items = sorted_items[:topn]\n",
    "\n",
    "    score_vals = []\n",
    "    feature_vals = []\n",
    "    \n",
    "    # word index and corresponding tf-idf score\n",
    "    for idx, score in sorted_items:\n",
    "        \n",
    "        #keep track of feature name and its corresponding score\n",
    "        score_vals.append(round(score, 3))\n",
    "        feature_vals.append(feature_names[idx])\n",
    "\n",
    "    #create a tuples of feature,score\n",
    "    #results = zip(feature_vals,score_vals)\n",
    "    results= {}\n",
    "    for idx in range(len(feature_vals)):\n",
    "        results[feature_vals[idx]]=score_vals[idx]\n",
    "    \n",
    "    return results"
   ]
  },
  {
   "cell_type": "code",
   "execution_count": 32,
   "metadata": {
    "tags": []
   },
   "outputs": [
    {
     "data": {
      "text/plain": [
       "{'new': 0.048, 'good': 0.049, 'need': 0.053, 'free': 0.053}"
      ]
     },
     "execution_count": 32,
     "metadata": {},
     "output_type": "execute_result"
    }
   ],
   "source": [
    "feature_names = vectorizer.get_feature_names_out()\n",
    "\n",
    "sorted_items=sort_coo(features.tocoo())\n",
    "sorted_items\n",
    "\n",
    "keywords=extract_topn_from_vector(feature_names,sorted_items,5)\n",
    "keywords"
   ]
  },
  {
   "cell_type": "code",
   "execution_count": 51,
   "metadata": {},
   "outputs": [
    {
     "data": {
      "text/html": [
       "<div>\n",
       "<style scoped>\n",
       "    .dataframe tbody tr th:only-of-type {\n",
       "        vertical-align: middle;\n",
       "    }\n",
       "\n",
       "    .dataframe tbody tr th {\n",
       "        vertical-align: top;\n",
       "    }\n",
       "\n",
       "    .dataframe thead th {\n",
       "        text-align: right;\n",
       "    }\n",
       "</style>\n",
       "<table border=\"1\" class=\"dataframe\">\n",
       "  <thead>\n",
       "    <tr style=\"text-align: right;\">\n",
       "      <th></th>\n",
       "      <th>Word</th>\n",
       "      <th>Freq</th>\n",
       "    </tr>\n",
       "  </thead>\n",
       "  <tbody>\n",
       "    <tr>\n",
       "      <th>0</th>\n",
       "      <td>free</td>\n",
       "      <td>694</td>\n",
       "    </tr>\n",
       "    <tr>\n",
       "      <th>1</th>\n",
       "      <td>ur</td>\n",
       "      <td>621</td>\n",
       "    </tr>\n",
       "    <tr>\n",
       "      <th>2</th>\n",
       "      <td>just</td>\n",
       "      <td>511</td>\n",
       "    </tr>\n",
       "    <tr>\n",
       "      <th>3</th>\n",
       "      <td>txt</td>\n",
       "      <td>483</td>\n",
       "    </tr>\n",
       "    <tr>\n",
       "      <th>4</th>\n",
       "      <td>stop</td>\n",
       "      <td>399</td>\n",
       "    </tr>\n",
       "  </tbody>\n",
       "</table>\n",
       "</div>"
      ],
      "text/plain": [
       "   Word  Freq\n",
       "0  free   694\n",
       "1    ur   621\n",
       "2  just   511\n",
       "3   txt   483\n",
       "4  stop   399"
      ]
     },
     "execution_count": 51,
     "metadata": {},
     "output_type": "execute_result"
    }
   ],
   "source": [
    "#get the most frequent words in the dataset \n",
    "def get_top_n_words(corpus, n=None):\n",
    "    vec = CountVectorizer(stop_words='english').fit(corpus)\n",
    "    bag_of_words = vec.transform(corpus)\n",
    "    sum_words = bag_of_words.sum(axis=0) \n",
    "    words_freq = [(word, sum_words[0, idx]) for word, idx in vec.vocabulary_.items()]\n",
    "    words_freq =sorted(words_freq, key = lambda x: x[1], reverse=True)\n",
    "    return words_freq[:n]\n",
    "\n",
    "#get the top 5 words in the dataset\n",
    "top_words = get_top_n_words(df_sample['text'], 5)\n",
    "top_df = pd.DataFrame(top_words)\n",
    "top_df.columns=[\"Word\", \"Freq\"]\n",
    "top_df"
   ]
  },
  {
   "cell_type": "code",
   "execution_count": 52,
   "metadata": {},
   "outputs": [
    {
     "data": {
      "text/html": [
       "<div>\n",
       "<style scoped>\n",
       "    .dataframe tbody tr th:only-of-type {\n",
       "        vertical-align: middle;\n",
       "    }\n",
       "\n",
       "    .dataframe tbody tr th {\n",
       "        vertical-align: top;\n",
       "    }\n",
       "\n",
       "    .dataframe thead th {\n",
       "        text-align: right;\n",
       "    }\n",
       "</style>\n",
       "<table border=\"1\" class=\"dataframe\">\n",
       "  <thead>\n",
       "    <tr style=\"text-align: right;\">\n",
       "      <th></th>\n",
       "      <th>Word</th>\n",
       "      <th>Freq</th>\n",
       "    </tr>\n",
       "  </thead>\n",
       "  <tbody>\n",
       "    <tr>\n",
       "      <th>0</th>\n",
       "      <td>gt</td>\n",
       "      <td>293</td>\n",
       "    </tr>\n",
       "    <tr>\n",
       "      <th>1</th>\n",
       "      <td>lt</td>\n",
       "      <td>292</td>\n",
       "    </tr>\n",
       "    <tr>\n",
       "      <th>2</th>\n",
       "      <td>just</td>\n",
       "      <td>265</td>\n",
       "    </tr>\n",
       "    <tr>\n",
       "      <th>3</th>\n",
       "      <td>ok</td>\n",
       "      <td>264</td>\n",
       "    </tr>\n",
       "    <tr>\n",
       "      <th>4</th>\n",
       "      <td>ll</td>\n",
       "      <td>239</td>\n",
       "    </tr>\n",
       "  </tbody>\n",
       "</table>\n",
       "</div>"
      ],
      "text/plain": [
       "   Word  Freq\n",
       "0    gt   293\n",
       "1    lt   292\n",
       "2  just   265\n",
       "3    ok   264\n",
       "4    ll   239"
      ]
     },
     "execution_count": 52,
     "metadata": {},
     "output_type": "execute_result"
    }
   ],
   "source": [
    "#get the top 5 words in ham\n",
    "top_words_ham = get_top_n_words(df_sample[df_sample['label']=='ham']['text'],5)\n",
    "top_df_ham = pd.DataFrame(top_words_ham)\n",
    "top_df_ham.columns=[\"Word\", \"Freq\"]\n",
    "top_df_ham"
   ]
  },
  {
   "cell_type": "code",
   "execution_count": 53,
   "metadata": {},
   "outputs": [
    {
     "data": {
      "text/html": [
       "<div>\n",
       "<style scoped>\n",
       "    .dataframe tbody tr th:only-of-type {\n",
       "        vertical-align: middle;\n",
       "    }\n",
       "\n",
       "    .dataframe tbody tr th {\n",
       "        vertical-align: top;\n",
       "    }\n",
       "\n",
       "    .dataframe thead th {\n",
       "        text-align: right;\n",
       "    }\n",
       "</style>\n",
       "<table border=\"1\" class=\"dataframe\">\n",
       "  <thead>\n",
       "    <tr style=\"text-align: right;\">\n",
       "      <th></th>\n",
       "      <th>Word</th>\n",
       "      <th>Freq</th>\n",
       "    </tr>\n",
       "  </thead>\n",
       "  <tbody>\n",
       "    <tr>\n",
       "      <th>0</th>\n",
       "      <td>free</td>\n",
       "      <td>640</td>\n",
       "    </tr>\n",
       "    <tr>\n",
       "      <th>1</th>\n",
       "      <td>txt</td>\n",
       "      <td>469</td>\n",
       "    </tr>\n",
       "    <tr>\n",
       "      <th>2</th>\n",
       "      <td>ur</td>\n",
       "      <td>397</td>\n",
       "    </tr>\n",
       "    <tr>\n",
       "      <th>3</th>\n",
       "      <td>stop</td>\n",
       "      <td>367</td>\n",
       "    </tr>\n",
       "    <tr>\n",
       "      <th>4</th>\n",
       "      <td>mobile</td>\n",
       "      <td>342</td>\n",
       "    </tr>\n",
       "  </tbody>\n",
       "</table>\n",
       "</div>"
      ],
      "text/plain": [
       "     Word  Freq\n",
       "0    free   640\n",
       "1     txt   469\n",
       "2      ur   397\n",
       "3    stop   367\n",
       "4  mobile   342"
      ]
     },
     "execution_count": 53,
     "metadata": {},
     "output_type": "execute_result"
    }
   ],
   "source": [
    "#get the top 5 words in spam\n",
    "top_words_spam = get_top_n_words(df_sample[df_sample['label']=='spam']['text'],5)\n",
    "top_df_spam = pd.DataFrame(top_words_spam)\n",
    "top_df_spam.columns=[\"Word\", \"Freq\"]\n",
    "top_df_spam"
   ]
  },
  {
   "cell_type": "markdown",
   "metadata": {},
   "source": [
    "### Model without resampling (USE_RESAMPLE = False)"
   ]
  },
  {
   "attachments": {
    "175f3fdf-0447-41fa-9043-2dd45089d478.png": {
     "image/png": "[encoded data removed]"
    },
    "1bed4c11-ef6e-44e0-87c6-a847394d80cb.png": {
     "image/png": "[encoded data removed]"
    }
   },
   "cell_type": "markdown",
   "metadata": {},
   "source": [
    "![image.png](attachment:175f3fdf-0447-41fa-9043-2dd45089d478.png), ![image.png](attachment:1bed4c11-ef6e-44e0-87c6-a847394d80cb.png)"
   ]
  },
  {
   "cell_type": "markdown",
   "metadata": {},
   "source": [
    "## Summary\n",
    "- The model accuracy is excellent 98.04% before improvement 98.3%\n",
    "- The model performance is very good, but the False-Negative values is high compared to False-Positives (incorrectly classified as Spam). <br>\n",
    "In this context a lower FN could be preffered. This was improved in the final model by using Resampling, increasing the cases for the 'spam'  category.<br>\n",
    "    The FP reduced from 29 to 11 cases.\n",
    "- Yes, by the nature of the data the Spam cases is roughly 15%. As the resample shown the accuracy increased by having more 'spam' cases."
   ]
  },
  {
   "cell_type": "code",
   "execution_count": null,
   "metadata": {
    "tags": []
   },
   "outputs": [],
   "source": [
    "import joblib\n",
    "import tempfile\n",
    "with tempfile.TemporaryFile() as tf:\n",
    "    s3_client = boto3.client('s3')\n",
    "    joblib.dump(mnb,tf)\n",
    "    tf.seek(0)\n",
    "    s3_client.put_object(Body=tf.read(), Bucket=bucket, Key='week3_solution.pkl')"
   ]
  }
 ],
 "metadata": {
  "instance_type": "ml.t3.medium",
  "kernelspec": {
   "display_name": "Python 3",
   "language": "python",
   "name": "python3"
  },
  "language_info": {
   "codemirror_mode": {
    "name": "ipython",
    "version": 3
   },
   "file_extension": ".py",
   "mimetype": "text/x-python",
   "name": "python",
   "nbconvert_exporter": "python",
   "pygments_lexer": "ipython3",
   "version": "3.11.1"
  },
  "vscode": {
   "interpreter": {
    "hash": "753e19518da2b2101a1d54ab3a97bd87587dd78d828089b583550e997c6bee0b"
   }
  }
 },
 "nbformat": 4,
 "nbformat_minor": 4
}
